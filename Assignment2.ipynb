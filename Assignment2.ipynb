{
 "cells": [
  {
   "cell_type": "code",
   "execution_count": 2,
   "metadata": {},
   "outputs": [
    {
     "name": "stdout",
     "output_type": "stream",
     "text": [
      "Enter Number one: 2\n",
      "Enter Number two: 6\n",
      "8\n"
     ]
    }
   ],
   "source": [
    "#Given two numbers, print their sum. However, if the two numbers are the same, return double their sum\n",
    "num1 = int(input(\"Enter Number one: \"))\n",
    "num2 = int(input(\"Enter Number two: \"))\n",
    "double = 0\n",
    "add = 0\n",
    "if(num1 == num2):\n",
    "    double = (num1 + num2) * 2\n",
    "    print(double)\n",
    "else:\n",
    "    add = num1 + num2\n",
    "    print(add)"
   ]
  },
  {
   "cell_type": "code",
   "execution_count": 7,
   "metadata": {},
   "outputs": [
    {
     "name": "stdout",
     "output_type": "stream",
     "text": [
      "Enter Cost Price: 25\n",
      "Enter Selling Price: 200\n",
      "Profit of 175\n"
     ]
    }
   ],
   "source": [
    "#Profit and Loss\n",
    "cost_price = int(input(\"Enter Cost Price: \"))\n",
    "selling_price = int(input(\"Enter Selling Price: \"))\n",
    "loss = 0\n",
    "profit = 0\n",
    "if(cost_price > selling_price):\n",
    "        loss = cost_price - selling_price\n",
    "        print(\"Loss of\",loss)\n",
    "else:\n",
    "    profit = selling_price - cost_price\n",
    "    print(\"Profit of\",profit)"
   ]
  },
  {
   "cell_type": "code",
   "execution_count": 13,
   "metadata": {},
   "outputs": [
    {
     "name": "stdout",
     "output_type": "stream",
     "text": [
      "Enter the value for first angle:0\n",
      "Enter the value for second angle:110\n",
      "Enter the value for third angle:70\n",
      "Not a valid Triangle\n"
     ]
    }
   ],
   "source": [
    "#Valid Triangle or not\n",
    "angle1 = int(input(\"Enter the value for first angle:\"))\n",
    "angle2 = int(input(\"Enter the value for second angle:\"))\n",
    "angle3 = int(input(\"Enter the value for third angle:\"))\n",
    "if(angle1 != 0 and angle2 != 0 and angle3 != 0 and angle1 + angle2 + angle3 == 180):\n",
    "    print(\"It is a valid Triangle\")\n",
    "else:\n",
    "    print(\"Not a valid Triangle\")\n"
   ]
  },
  {
   "cell_type": "code",
   "execution_count": 3,
   "metadata": {},
   "outputs": [
    {
     "name": "stdout",
     "output_type": "stream",
     "text": [
      "The highest number in the list is 200\n",
      "The index is 8\n"
     ]
    }
   ],
   "source": [
    "#Add Matrices\n",
    "nums = [10,50,20,90,60,30,40,100,200,190,76] \n",
    "print(\"The highest number in the list is\",max(nums))\n",
    "print(\"The index is\",nums.index(max(nums)))"
   ]
  },
  {
   "cell_type": "code",
   "execution_count": 14,
   "metadata": {
    "scrolled": false
   },
   "outputs": [
    {
     "name": "stdout",
     "output_type": "stream",
     "text": [
      "0\n",
      "1\n",
      "1\n",
      "2\n",
      "3\n",
      "5\n",
      "8\n",
      "13\n",
      "21\n",
      "34\n",
      "55\n",
      "89\n",
      "144\n",
      "233\n",
      "377\n",
      "610\n",
      "987\n",
      "1597\n",
      "2584\n",
      "4181\n",
      "6765\n",
      "10946\n"
     ]
    }
   ],
   "source": [
    "#Fibonacci\n",
    "num1 = 0\n",
    "num2 = 1\n",
    "num3 = 0\n",
    "print(num1)\n",
    "print(num2)\n",
    "for i in range(20):\n",
    "    num3 = num1 + num2\n",
    "    print(num3)\n",
    "    num1 = num2\n",
    "    num2 = num3"
   ]
  },
  {
   "cell_type": "code",
   "execution_count": 1,
   "metadata": {},
   "outputs": [
    {
     "name": "stdout",
     "output_type": "stream",
     "text": [
      "PythOn sAmplE InpUt strIng\n"
     ]
    }
   ],
   "source": [
    "#uppercase the vowels\n",
    "string= \"Python sample input string\"\n",
    "for letter in string:\n",
    "    if(letter in \"aeiou\"):\n",
    "        letter_caps = letter.upper()\n",
    "        string = string.replace(letter, letter_caps)\n",
    "print(string)"
   ]
  },
  {
   "cell_type": "markdown",
   "metadata": {},
   "source": []
  },
  {
   "cell_type": "code",
   "execution_count": 41,
   "metadata": {},
   "outputs": [
    {
     "name": "stdout",
     "output_type": "stream",
     "text": [
      "Enter Number:.144\n",
      ".144  is not a valid Floating Number\n"
     ]
    }
   ],
   "source": [
    "#is valid float or not\n",
    "string = input(\"Enter Number:\")\n",
    "if(string.startswith(\".\")):\n",
    "    print(string,\" is not a valid Floating Number\")\n",
    "else:\n",
    "    float_number = float(string)\n",
    "    int_number = int(float_number)\n",
    "    if(float_number - int_number != 0):\n",
    "        print(float_number, \"is a valid Floating Number\" )\n",
    "    else:\n",
    "        print(int_number, \"is not a valid Floating Number\")"
   ]
  },
  {
   "cell_type": "code",
   "execution_count": 175,
   "metadata": {},
   "outputs": [
    {
     "name": "stdout",
     "output_type": "stream",
     "text": [
      "[[11, 22, 33], [44, 55, 66], [77, 88, 99]]\n"
     ]
    }
   ],
   "source": [
    "#add matrices\n",
    "a = [[10,20,30], [40,50,60], [70,80,90]] \n",
    "b = [[1,2,3], [4,5,6], [7,8,9]]\n",
    "sums = [[[a[i][j] + b[i][j]  for j in range(len(a[0]))] for i in range(len(a))]]\n",
    "\n",
    "for values in sums:\n",
    "    print(values)\n",
    "                \n",
    "        "
   ]
  },
  {
   "cell_type": "code",
   "execution_count": 41,
   "metadata": {},
   "outputs": [
    {
     "name": "stdout",
     "output_type": "stream",
     "text": [
      "{10: 3, 20: 2, 30: 1, 40: 2, 50: 1, 65: 1}\n"
     ]
    }
   ],
   "source": [
    "#count the number of occurances of a number from list\n",
    "list_items = [10,10,20,10,30,20,40,50,40,65]\n",
    "dictionary={}\n",
    "for i in list_items:\n",
    "    dictionary[i] = list_items.count(i)\n",
    "print(dictionary)"
   ]
  }
 ],
 "metadata": {
  "kernelspec": {
   "display_name": "Python 3",
   "language": "python",
   "name": "python3"
  },
  "language_info": {
   "codemirror_mode": {
    "name": "ipython",
    "version": 3
   },
   "file_extension": ".py",
   "mimetype": "text/x-python",
   "name": "python",
   "nbconvert_exporter": "python",
   "pygments_lexer": "ipython3",
   "version": "3.7.3"
  }
 },
 "nbformat": 4,
 "nbformat_minor": 2
}
